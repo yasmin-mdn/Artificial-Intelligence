{
  "nbformat": 4,
  "nbformat_minor": 0,
  "metadata": {
    "colab": {
      "name": "code.ipynb",
      "provenance": [],
      "collapsed_sections": []
    },
    "kernelspec": {
      "name": "python3",
      "display_name": "Python 3"
    },
    "language_info": {
      "name": "python"
    }
  },
  "cells": [
    {
      "cell_type": "code",
      "execution_count": 1,
      "metadata": {
        "id": "jz-X99zRcpWS"
      },
      "outputs": [],
      "source": [
        "import tensorflow as tf\n",
        "import random\n",
        "from tensorflow import keras\n",
        "import matplotlib.pyplot as plt\n",
        "import numpy as np\n",
        "from tensorflow.keras.datasets import fashion_mnist \n",
        "from sklearn.utils import shuffle\n",
        "tf.random.set_seed(2022)\n",
        "random.seed(2022)\n",
        "np.random.seed(2022)\n",
        "(train_images, train_labels), (test_images, test_labels) = fashion_mnist.load_data()\n",
        "train_images = train_images / 255\n",
        "test_images = test_images / 255\n",
        "from tensorflow.python.keras.engine.input_layer import Input\n",
        "model = keras.models.Sequential(\n",
        "    [\n",
        "     keras.layers.Input(shape=(28, 28)),\n",
        "      keras.layers.Flatten(),\n",
        "     keras.layers.Dense(units=256, activation='relu'),\n",
        "     keras.layers.Dense(units=10, activation='softmax'),\n",
        "    ]\n",
        ")\n",
        "\n",
        "model.compile(loss=keras.losses.SparseCategoricalCrossentropy(), \n",
        "              optimizer=keras.optimizers.Adam(learning_rate=0.0001),\n",
        "              metrics=['accuracy'],\n",
        "              )\n",
        "train_labels = np.array(train_labels)\n",
        "train_images = np.array(train_images)\n",
        "train_labels, train_images = shuffle(train_labels, train_images)\n",
        "result = model.fit(train_images, \n",
        "          train_labels, \n",
        "          batch_size=256,\n",
        "          epochs=50, \n",
        "          shuffle=True,\n",
        "          validation_split=0.15\n",
        "         )\n",
        "ev=model.evaluate(test_images,test_labels)\n",
        "plt.plot(result.history['loss'])\n",
        "plt.plot(result.history['val_loss'])\n",
        "plt.title('loss')\n",
        "plt.show()\n",
        "plt.plot(result.history['accuracy'])\n",
        "plt.plot(result.history['val_accuracy'])\n",
        "plt.title('accuracy')\n",
        "plt.show()\n",
        "preds = model.predict(test_images)\n",
        "print(preds.shape)\n",
        "print(preds[0])\n",
        "my_preds = preds.argmax(axis=1)\n",
        "print(my_preds.shape)\n",
        "print(my_preds[0])\n",
        "print(test_labels[0])\n",
        "test = test_images * 255\n",
        "plt.imshow(test[10], cmap='gray')\n",
        "plt.title(f'prediction: {my_preds[10]}, true_label: {test_labels[1]}')\n",
        "plt.show()"
      ]
    }
  ]
}